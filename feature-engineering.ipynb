{
 "cells": [
  {
   "cell_type": "code",
   "execution_count": 1,
   "id": "5ac9fd51",
   "metadata": {},
   "outputs": [],
   "source": [
    "import numpy as np\n",
    "import pandas as pd"
   ]
  },
  {
   "cell_type": "code",
   "execution_count": 4,
   "id": "6bce8196",
   "metadata": {},
   "outputs": [],
   "source": [
    "df = pd.read_csv('gurgaon_properties_cleaned_v1.csv')"
   ]
  },
  {
   "cell_type": "code",
   "execution_count": 5,
   "id": "46c55b9a",
   "metadata": {},
   "outputs": [
    {
     "data": {
      "text/plain": [
       "property_type         0\n",
       "society               1\n",
       "sector                0\n",
       "price                18\n",
       "price_per_sqft       18\n",
       "area                 18\n",
       "areaWithType          0\n",
       "bedRoom               0\n",
       "bathroom              0\n",
       "balcony               0\n",
       "additionalRoom        0\n",
       "floorNum             19\n",
       "facing             1105\n",
       "agePossession         1\n",
       "nearbyLocations     177\n",
       "furnishDetails      981\n",
       "features            635\n",
       "dtype: int64"
      ]
     },
     "execution_count": 5,
     "metadata": {},
     "output_type": "execute_result"
    }
   ],
   "source": [
    "df.isnull().sum()"
   ]
  },
  {
   "cell_type": "code",
   "execution_count": 6,
   "id": "b29597ac",
   "metadata": {},
   "outputs": [
    {
     "data": {
      "text/plain": [
       "122"
      ]
     },
     "execution_count": 6,
     "metadata": {},
     "output_type": "execute_result"
    }
   ],
   "source": [
    "df.duplicated().sum()"
   ]
  },
  {
   "cell_type": "code",
   "execution_count": 7,
   "id": "f5d480af",
   "metadata": {},
   "outputs": [
    {
     "data": {
      "text/html": [
       "<div>\n",
       "<style scoped>\n",
       "    .dataframe tbody tr th:only-of-type {\n",
       "        vertical-align: middle;\n",
       "    }\n",
       "\n",
       "    .dataframe tbody tr th {\n",
       "        vertical-align: top;\n",
       "    }\n",
       "\n",
       "    .dataframe thead th {\n",
       "        text-align: right;\n",
       "    }\n",
       "</style>\n",
       "<table border=\"1\" class=\"dataframe\">\n",
       "  <thead>\n",
       "    <tr style=\"text-align: right;\">\n",
       "      <th></th>\n",
       "      <th>property_type</th>\n",
       "      <th>society</th>\n",
       "      <th>sector</th>\n",
       "      <th>price</th>\n",
       "      <th>price_per_sqft</th>\n",
       "      <th>area</th>\n",
       "      <th>areaWithType</th>\n",
       "      <th>bedRoom</th>\n",
       "      <th>bathroom</th>\n",
       "      <th>balcony</th>\n",
       "      <th>additionalRoom</th>\n",
       "      <th>floorNum</th>\n",
       "      <th>facing</th>\n",
       "      <th>agePossession</th>\n",
       "      <th>nearbyLocations</th>\n",
       "      <th>furnishDetails</th>\n",
       "      <th>features</th>\n",
       "    </tr>\n",
       "  </thead>\n",
       "  <tbody>\n",
       "    <tr>\n",
       "      <th>0</th>\n",
       "      <td>flat</td>\n",
       "      <td>ramprasta awho</td>\n",
       "      <td>sector 95</td>\n",
       "      <td>0.92</td>\n",
       "      <td>5257.0</td>\n",
       "      <td>1750.0</td>\n",
       "      <td>Built Up area: 1750 (162.58 sq.m.)Carpet area:...</td>\n",
       "      <td>3</td>\n",
       "      <td>3</td>\n",
       "      <td>3+</td>\n",
       "      <td>not available</td>\n",
       "      <td>13.0</td>\n",
       "      <td>North-East</td>\n",
       "      <td>undefined</td>\n",
       "      <td>NaN</td>\n",
       "      <td>NaN</td>\n",
       "      <td>NaN</td>\n",
       "    </tr>\n",
       "  </tbody>\n",
       "</table>\n",
       "</div>"
      ],
      "text/plain": [
       "  property_type         society     sector  price  price_per_sqft    area  \\\n",
       "0          flat  ramprasta awho  sector 95   0.92          5257.0  1750.0   \n",
       "\n",
       "                                        areaWithType  bedRoom  bathroom  \\\n",
       "0  Built Up area: 1750 (162.58 sq.m.)Carpet area:...        3         3   \n",
       "\n",
       "  balcony additionalRoom  floorNum      facing agePossession nearbyLocations  \\\n",
       "0      3+  not available      13.0  North-East     undefined             NaN   \n",
       "\n",
       "  furnishDetails features  \n",
       "0            NaN      NaN  "
      ]
     },
     "execution_count": 7,
     "metadata": {},
     "output_type": "execute_result"
    }
   ],
   "source": [
    "df.head(1)\n",
    "# focus is on -> areaWithType, additionalRoom, agePossession, furnishDetails, features \n",
    "\n"
   ]
  },
  {
   "cell_type": "code",
   "execution_count": 13,
   "id": "7da2a3bd",
   "metadata": {},
   "outputs": [],
   "source": [
    "#areaWithType\n",
    "import re\n",
    "\n",
    "# This function extracts the Super Built up area\n",
    "def get_super_built_up_area(text):\n",
    "    match = re.search(r'Super Built up area (\\d+\\.?\\d*)', text)\n",
    "    if match:\n",
    "        return float(match.group(1))\n",
    "    return None"
   ]
  },
  {
   "cell_type": "code",
   "execution_count": 14,
   "id": "d470c8e9",
   "metadata": {},
   "outputs": [],
   "source": [
    "# This function extracts the Built Up area or Carpet area\n",
    "def get_area(text, area_type):\n",
    "    match = re.search(area_type + r'\\s*:\\s*(\\d+\\.?\\d*)', text)\n",
    "    if match:\n",
    "        return float(match.group(1))\n",
    "    return None"
   ]
  },
  {
   "cell_type": "code",
   "execution_count": 15,
   "id": "5e2746b4",
   "metadata": {},
   "outputs": [],
   "source": [
    "\n",
    "\n",
    "# This function checks if the area is provided in sq.m. and converts it to sqft if needed\n",
    "def convert_to_sqft(text, area_value):\n",
    "    if area_value is None:\n",
    "        return None\n",
    "    match = re.search(r'{} \\((\\d+\\.?\\d*) sq.m.\\)'.format(area_value), text)\n",
    "    if match:\n",
    "        sq_m_value = float(match.group(1))\n",
    "        return sq_m_value * 10.7639  # conversion factor from sq.m. to sqft\n",
    "    return area_value\n",
    "\n"
   ]
  },
  {
   "cell_type": "code",
   "execution_count": 16,
   "id": "bf21394b",
   "metadata": {},
   "outputs": [],
   "source": [
    "\n",
    "\n",
    "# Extract Super Built up area and convert to sqft if needed\n",
    "df['super_built_up_area'] = df['areaWithType'].apply(get_super_built_up_area)\n",
    "df['super_built_up_area'] = df.apply(lambda x: convert_to_sqft(x['areaWithType'], x['super_built_up_area']), axis=1)\n",
    "\n",
    "# Extract Built Up area and convert to sqft if needed\n",
    "df['built_up_area'] = df['areaWithType'].apply(lambda x: get_area(x, 'Built Up area'))\n",
    "df['built_up_area'] = df.apply(lambda x: convert_to_sqft(x['areaWithType'], x['built_up_area']), axis=1)\n",
    "\n",
    "# Extract Carpet area and convert to sqft if needed\n",
    "df['carpet_area'] = df['areaWithType'].apply(lambda x: get_area(x, 'Carpet area'))\n",
    "df['carpet_area'] = df.apply(lambda x: convert_to_sqft(x['areaWithType'], x['carpet_area']), axis=1)\n",
    "\n"
   ]
  },
  {
   "cell_type": "code",
   "execution_count": 18,
   "id": "e1f31b33",
   "metadata": {},
   "outputs": [
    {
     "data": {
      "text/html": [
       "<div>\n",
       "<style scoped>\n",
       "    .dataframe tbody tr th:only-of-type {\n",
       "        vertical-align: middle;\n",
       "    }\n",
       "\n",
       "    .dataframe tbody tr th {\n",
       "        vertical-align: top;\n",
       "    }\n",
       "\n",
       "    .dataframe thead th {\n",
       "        text-align: right;\n",
       "    }\n",
       "</style>\n",
       "<table border=\"1\" class=\"dataframe\">\n",
       "  <thead>\n",
       "    <tr style=\"text-align: right;\">\n",
       "      <th></th>\n",
       "      <th>price</th>\n",
       "      <th>property_type</th>\n",
       "      <th>area</th>\n",
       "      <th>areaWithType</th>\n",
       "      <th>super_built_up_area</th>\n",
       "      <th>built_up_area</th>\n",
       "      <th>carpet_area</th>\n",
       "    </tr>\n",
       "  </thead>\n",
       "  <tbody>\n",
       "    <tr>\n",
       "      <th>3114</th>\n",
       "      <td>2.17</td>\n",
       "      <td>flat</td>\n",
       "      <td>1550.0</td>\n",
       "      <td>Carpet area: 1549 (143.91 sq.m.)</td>\n",
       "      <td>NaN</td>\n",
       "      <td>NaN</td>\n",
       "      <td>1549.0</td>\n",
       "    </tr>\n",
       "    <tr>\n",
       "      <th>3791</th>\n",
       "      <td>1.60</td>\n",
       "      <td>flat</td>\n",
       "      <td>2545.0</td>\n",
       "      <td>Super Built up area 2545(236.44 sq.m.)</td>\n",
       "      <td>2545.0</td>\n",
       "      <td>NaN</td>\n",
       "      <td>NaN</td>\n",
       "    </tr>\n",
       "    <tr>\n",
       "      <th>3393</th>\n",
       "      <td>1.25</td>\n",
       "      <td>flat</td>\n",
       "      <td>1744.0</td>\n",
       "      <td>Super Built up area 1744(162.02 sq.m.)</td>\n",
       "      <td>1744.0</td>\n",
       "      <td>NaN</td>\n",
       "      <td>NaN</td>\n",
       "    </tr>\n",
       "    <tr>\n",
       "      <th>759</th>\n",
       "      <td>1.60</td>\n",
       "      <td>flat</td>\n",
       "      <td>1950.0</td>\n",
       "      <td>Super Built up area 1950(181.16 sq.m.)Carpet a...</td>\n",
       "      <td>1950.0</td>\n",
       "      <td>NaN</td>\n",
       "      <td>1161.0</td>\n",
       "    </tr>\n",
       "    <tr>\n",
       "      <th>1222</th>\n",
       "      <td>0.95</td>\n",
       "      <td>flat</td>\n",
       "      <td>1385.0</td>\n",
       "      <td>Super Built up area 1385(128.67 sq.m.)Built Up...</td>\n",
       "      <td>1385.0</td>\n",
       "      <td>940.0</td>\n",
       "      <td>845.0</td>\n",
       "    </tr>\n",
       "  </tbody>\n",
       "</table>\n",
       "</div>"
      ],
      "text/plain": [
       "      price property_type    area  \\\n",
       "3114   2.17          flat  1550.0   \n",
       "3791   1.60          flat  2545.0   \n",
       "3393   1.25          flat  1744.0   \n",
       "759    1.60          flat  1950.0   \n",
       "1222   0.95          flat  1385.0   \n",
       "\n",
       "                                           areaWithType  super_built_up_area  \\\n",
       "3114                   Carpet area: 1549 (143.91 sq.m.)                  NaN   \n",
       "3791             Super Built up area 2545(236.44 sq.m.)               2545.0   \n",
       "3393             Super Built up area 1744(162.02 sq.m.)               1744.0   \n",
       "759   Super Built up area 1950(181.16 sq.m.)Carpet a...               1950.0   \n",
       "1222  Super Built up area 1385(128.67 sq.m.)Built Up...               1385.0   \n",
       "\n",
       "      built_up_area  carpet_area  \n",
       "3114            NaN       1549.0  \n",
       "3791            NaN          NaN  \n",
       "3393            NaN          NaN  \n",
       "759             NaN       1161.0  \n",
       "1222          940.0        845.0  "
      ]
     },
     "execution_count": 18,
     "metadata": {},
     "output_type": "execute_result"
    }
   ],
   "source": [
    "df[['price','property_type','area','areaWithType','super_built_up_area','built_up_area','carpet_area']].sample(5)"
   ]
  },
  {
   "cell_type": "code",
   "execution_count": 19,
   "id": "fa9cf724",
   "metadata": {},
   "outputs": [
    {
     "data": {
      "text/plain": [
       "(534, 7)"
      ]
     },
     "execution_count": 19,
     "metadata": {},
     "output_type": "execute_result"
    }
   ],
   "source": [
    "df[~((df['super_built_up_area'].isnull()) | (df['built_up_area'].isnull()) | (df['carpet_area'].isnull()))][['price','property_type','area','areaWithType','super_built_up_area','built_up_area','carpet_area']].shape"
   ]
  },
  {
   "cell_type": "code",
   "execution_count": 20,
   "id": "c838c8c2",
   "metadata": {},
   "outputs": [
    {
     "data": {
      "text/html": [
       "<div>\n",
       "<style scoped>\n",
       "    .dataframe tbody tr th:only-of-type {\n",
       "        vertical-align: middle;\n",
       "    }\n",
       "\n",
       "    .dataframe tbody tr th {\n",
       "        vertical-align: top;\n",
       "    }\n",
       "\n",
       "    .dataframe thead th {\n",
       "        text-align: right;\n",
       "    }\n",
       "</style>\n",
       "<table border=\"1\" class=\"dataframe\">\n",
       "  <thead>\n",
       "    <tr style=\"text-align: right;\">\n",
       "      <th></th>\n",
       "      <th>price</th>\n",
       "      <th>property_type</th>\n",
       "      <th>area</th>\n",
       "      <th>areaWithType</th>\n",
       "      <th>super_built_up_area</th>\n",
       "      <th>built_up_area</th>\n",
       "      <th>carpet_area</th>\n",
       "    </tr>\n",
       "  </thead>\n",
       "  <tbody>\n",
       "    <tr>\n",
       "      <th>2</th>\n",
       "      <td>0.42</td>\n",
       "      <td>house</td>\n",
       "      <td>50.0</td>\n",
       "      <td>Plot area 50(4.65 sq.m.)</td>\n",
       "      <td>NaN</td>\n",
       "      <td>NaN</td>\n",
       "      <td>NaN</td>\n",
       "    </tr>\n",
       "    <tr>\n",
       "      <th>3</th>\n",
       "      <td>6.50</td>\n",
       "      <td>house</td>\n",
       "      <td>1836.0</td>\n",
       "      <td>Plot area 215(179.77 sq.m.)Built Up area: 215 ...</td>\n",
       "      <td>NaN</td>\n",
       "      <td>215.0</td>\n",
       "      <td>NaN</td>\n",
       "    </tr>\n",
       "    <tr>\n",
       "      <th>15</th>\n",
       "      <td>8.50</td>\n",
       "      <td>house</td>\n",
       "      <td>4000.0</td>\n",
       "      <td>Plot area 4000(371.61 sq.m.)</td>\n",
       "      <td>NaN</td>\n",
       "      <td>NaN</td>\n",
       "      <td>NaN</td>\n",
       "    </tr>\n",
       "    <tr>\n",
       "      <th>16</th>\n",
       "      <td>3.51</td>\n",
       "      <td>house</td>\n",
       "      <td>2844.0</td>\n",
       "      <td>Plot area 316(264.22 sq.m.)</td>\n",
       "      <td>NaN</td>\n",
       "      <td>NaN</td>\n",
       "      <td>NaN</td>\n",
       "    </tr>\n",
       "    <tr>\n",
       "      <th>18</th>\n",
       "      <td>2.40</td>\n",
       "      <td>house</td>\n",
       "      <td>2000.0</td>\n",
       "      <td>Plot area 2000(185.81 sq.m.)</td>\n",
       "      <td>NaN</td>\n",
       "      <td>NaN</td>\n",
       "      <td>NaN</td>\n",
       "    </tr>\n",
       "  </tbody>\n",
       "</table>\n",
       "</div>"
      ],
      "text/plain": [
       "    price property_type    area  \\\n",
       "2    0.42         house    50.0   \n",
       "3    6.50         house  1836.0   \n",
       "15   8.50         house  4000.0   \n",
       "16   3.51         house  2844.0   \n",
       "18   2.40         house  2000.0   \n",
       "\n",
       "                                         areaWithType  super_built_up_area  \\\n",
       "2                            Plot area 50(4.65 sq.m.)                  NaN   \n",
       "3   Plot area 215(179.77 sq.m.)Built Up area: 215 ...                  NaN   \n",
       "15                       Plot area 4000(371.61 sq.m.)                  NaN   \n",
       "16                        Plot area 316(264.22 sq.m.)                  NaN   \n",
       "18                       Plot area 2000(185.81 sq.m.)                  NaN   \n",
       "\n",
       "    built_up_area  carpet_area  \n",
       "2             NaN          NaN  \n",
       "3           215.0          NaN  \n",
       "15            NaN          NaN  \n",
       "16            NaN          NaN  \n",
       "18            NaN          NaN  "
      ]
     },
     "execution_count": 20,
     "metadata": {},
     "output_type": "execute_result"
    }
   ],
   "source": [
    "df[df['areaWithType'].str.contains('Plot')][['price','property_type','area','areaWithType','super_built_up_area','built_up_area','carpet_area']].head(5)"
   ]
  },
  {
   "cell_type": "code",
   "execution_count": null,
   "id": "5e65fe7b",
   "metadata": {},
   "outputs": [],
   "source": []
  },
  {
   "cell_type": "code",
   "execution_count": null,
   "id": "b364f698",
   "metadata": {},
   "outputs": [],
   "source": []
  },
  {
   "cell_type": "code",
   "execution_count": null,
   "id": "05c247c8",
   "metadata": {},
   "outputs": [],
   "source": []
  },
  {
   "cell_type": "code",
   "execution_count": null,
   "id": "12d321e8",
   "metadata": {},
   "outputs": [],
   "source": []
  },
  {
   "cell_type": "code",
   "execution_count": null,
   "id": "7ef24d24",
   "metadata": {},
   "outputs": [],
   "source": []
  },
  {
   "cell_type": "code",
   "execution_count": null,
   "id": "6f171802",
   "metadata": {},
   "outputs": [],
   "source": []
  }
 ],
 "metadata": {
  "kernelspec": {
   "display_name": "base",
   "language": "python",
   "name": "python3"
  },
  "language_info": {
   "codemirror_mode": {
    "name": "ipython",
    "version": 3
   },
   "file_extension": ".py",
   "mimetype": "text/x-python",
   "name": "python",
   "nbconvert_exporter": "python",
   "pygments_lexer": "ipython3",
   "version": "3.12.7"
  }
 },
 "nbformat": 4,
 "nbformat_minor": 5
}
